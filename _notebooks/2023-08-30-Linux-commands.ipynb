{
 "cells": [
  {
   "cell_type": "markdown",
   "metadata": {},
   "source": [
    "---\n",
    "toc: true\n",
    "comments: true\n",
    "layout: post\n",
    "title: Linux Commands\n",
    "description:  Example!!! This sample shows markdown cell, markdown table, markdown code fencing, and code cells.\n",
    "type: hacks\n",
    "---"
   ]
  },
  {
   "cell_type": "code",
   "execution_count": null,
   "metadata": {
    "vscode": {
     "languageId": "java"
    }
   },
   "outputs": [],
   "source": [
    "mkdir [folder name]  //create a new folder/directory\n",
    "cd //change to root directory\n",
    "cd [folder name] //change to certain folder/directory\n",
    "code [directory name] //vscode command, open certain repository on vscode\n",
    "code . //vscode command, open the directory you are in now.\n",
    "rm -rf [foldernamehere] //remove folder\n",
    "//----------------------------------git commands-----------------------------------------------------\n",
    "git clone [link] //git command, git clone repository\n",
    "git pull //pull the changes from repository\n",
    "git push //push your changes to repository\n",
    "//----------------------------------------------------------------------------------------------------\n",
    "//pm2 command, used in AWS, or when you need to host your web on server.\n",
    "pm2 restart all\n",
    "pm2 start [js file name]\n",
    "//Keep command running in background/server (AWS EC2), Using tmux\n",
    "sudo apt update           //install tmux\n",
    "sudo apt install tmux\n",
    "tmux           //start a new tmux session\n",
    "cd [directory name]         //where your script file is located\n",
    "node script.js             //run your script\n",
    "Ctrl b,    then press \"d\"      //Detach from the tmux session\n",
    "Now the command is running in background, you can freely log out and exit the terminal.\n",
    "tmux attach       //Reattach to the tmux session (Optional)\n",
    "//-------------------------------Some useful commands-------------------------------------------------------\n",
    "vim commands //by those commands you can directly edit the file on server\n",
    "ls commands: //ls means \"list\", https://linuxize.com/post/how-to-list-files-in-linux-using-the-ls-command/\n",
    "ls  //to list all the file under your current directory\n",
    "cat [file name] //To view the content of certain file under current directory\n",
    "//--------------------------------Running Github Pages locally (WSL)------------------------------------------\n",
    "command:\n",
    "// WSL/Ubuntu commands\n",
    "sudo apt install //installs packages for Ubuntu\n",
    "echo \"=== Ugrade Packages ===\"\n",
    "sudo apt update\n",
    "sudo apt upgrade -y\n",
    "echo \"=== Install Ruby ===\"\n",
    "sudo apt install -y ruby-full build-essential zlib1g-dev\n",
    "echo \"=== Install Python ===\"\n",
    "sudo apt-get install -y python3 python3-pip python-is-python3\n",
    "echo \"=== Install Jupyter Notebook ===\"\n",
    "sudo apt-get install -y jupyter-notebook\n",
    "after that, run:\n",
    "bundle install\n",
    "make\n",
    "//make commands\n",
    "make //This runs the local server\n",
    "make clean //stops the local server and cleans the files (recommended to use this to stop). This means you will be unable to access your blog on http://localhost until you run make again.\n",
    "make stop //stops the local server.\n",
    "make convert //converts Jupyter Notebook files, run this if your .ipynb files are not updating on the server.\n",
    "//----------------------------------------------Tool/dependencies version check-----------------------------------------------------------\n",
    "// Show the active Ruby version, MacOS is 3.1.4\n",
    "ruby -v\n",
    "// Show active Python version, it needs to be 3.9 or better\n",
    "python --version\n",
    "// Setup Python libraries for Notebook conversion\n",
    "pip install nbconvert  # library for notebook conversion\n",
    "pip install nbformat  # notebook file utility\n",
    "pip install pyyaml  # notebook frontmatter\n",
    "// Show Jupyter packages, nbconvert needs to be in the list\n",
    "jupyter --version\n",
    "// Show Kernels, python3 needs to be in list\n",
    "jupyter kernelspec list // does not work on Cloud Ubuntu"
   ]
  }
 ],
 "metadata": {
  "language_info": {
   "name": "python"
  },
  "orig_nbformat": 4
 },
 "nbformat": 4,
 "nbformat_minor": 2
}
